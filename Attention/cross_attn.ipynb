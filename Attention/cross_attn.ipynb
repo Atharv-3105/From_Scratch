{
 "cells": [
  {
   "cell_type": "markdown",
   "id": "b3b11ee6",
   "metadata": {},
   "source": [
    "## Cross Attention\n"
   ]
  },
  {
   "cell_type": "markdown",
   "id": "5dfe3d13",
   "metadata": {},
   "source": [
    " Cross-Attention is a fundamental mechanism in modern AI, especially in Tranformer models. It allows a neural network to dynamically relate and fuse information from different input sequences."
   ]
  },
  {
   "cell_type": "markdown",
   "id": "492c4128",
   "metadata": {},
   "source": [
    "**Core Concepts**\n",
    "- **Self-Attention** lets a sequence \"attend\" to itself, calculating how each element(e.g a word) relates to every other element in the same sequence.\n",
    "\n",
    "- **Cross-Attention** upgrades the **Self-Attention**; It lets one sequence(Query) attend to a different sequence(Key,Value pairs).\n",
    "\n",
    "- In Cross-Attention the queries come from one source, while the keys and values come from another.\n",
    "\n",
    "- Cross-Attention is generally used in *Multi-Modal Language Models* where context from 2 different sequences is available."
   ]
  },
  {
   "cell_type": "markdown",
   "id": "74d2cc32",
   "metadata": {},
   "source": [
    "![cross_attn.png](./imgs/cross_attn.png)"
   ]
  },
  {
   "cell_type": "code",
   "execution_count": 1,
   "id": "aa374750",
   "metadata": {},
   "outputs": [],
   "source": [
    "import torch \n",
    "import torch.nn as nn\n",
    "import torch.nn.functional as F\n",
    "import math"
   ]
  },
  {
   "cell_type": "markdown",
   "id": "0d8be10d",
   "metadata": {},
   "source": [
    "- First we will implement MHSA and then we will Implement Cross MultiHead Self-Attention to compare the difference."
   ]
  },
  {
   "cell_type": "code",
   "execution_count": 12,
   "id": "45fab495",
   "metadata": {},
   "outputs": [],
   "source": [
    "class MHSA(nn.Module):\n",
    "    def __init__(self, head_dim = 64, D_model = 512, causal = True):\n",
    "        super().__init__()\n",
    "        self.head_dim = head_dim\n",
    "        self.D_model = D_model\n",
    "        assert D_model % head_dim == 0, \"Error: Head Dimension does not evenly divide residual stream dimension.\"\n",
    "        self.num_heads = D_model // head_dim\n",
    "        self.causal = causal\n",
    "        \n",
    "        self.qkv_proj = nn.Linear(D_model, D_model *3)\n",
    "        self.out_proj = nn.Linear(D_model, D_model)\n",
    "        \n",
    "    def forward(self, x):\n",
    "        B, S, _ = x.shape  #Shape: [batch_size, seq_len, dim_model]\n",
    "        \n",
    "        #Get the QKV projection\n",
    "        qkv = self.qkv_proj(x) #Shape: [batch_size, seq_len, dim_model]------>[batch_size, seq_len, dim_model*3]\n",
    "        \n",
    "        #Reshape the QKV proj: [batch_size, seq_len, dim_model]------>[batch_size, seq_len, 3, num_heads, head_dim]\n",
    "        qkv = qkv.reshape(B, S, 3, self.num_heads, self.head_dim)\n",
    "        \n",
    "        #Permute(Re-arrange) the Dimensions of QKV projection: [batch_size, seq_len, 3, num_heads, head_dim]------>[3, batch_size, num_heads, seq_len, head_dim]\n",
    "        qkv = qkv.permute(2, 0, 3, 1, 4)\n",
    "        \n",
    "        #Split the QKV projection into 3 matrices that are Q,K,V\n",
    "        q = qkv[0] #Shape: [batch_size, num_heads, seq_len, head_dim]\n",
    "        k = qkv[1] #Shape: [batch_size, num_heads, seq_len, head_dim]\n",
    "        v = qkv[2] #Shape: [batch_size, num_heads, seq_len, head_dim]\n",
    "        \n",
    "        attn_weight = torch.matmul(q, k.transpose(2,3))  \n",
    "        ''' \n",
    "            k.transpose: Shape [batch_size, num_heads, seq_len, head_dim]----->[batch_size, num_heads, head_dim, seq_len]\n",
    "            matmul: Query @ Key.transpose\n",
    "                    Shape:[batch_size, num_heads, seq_len, head_dim] @ [batch_size, num_heads, head_dim, seq_len]------>[batch_size, num_heads, seq_len, seq_len]\n",
    "        '''\n",
    "        \n",
    "        denominator = math.sqrt(self.head_dim)\n",
    "        attn_weight = attn_weight / denominator\n",
    "        \n",
    "        #Applt Causal Mask\n",
    "        if self.causal:\n",
    "            #Create a mask in which a position can't attend to next position\n",
    "            mask = torch.arange(S)[:,None] >= torch.arange(S)\n",
    "            \n",
    "            #Replace all the places of MASK with (-inf) so that when softmax() is applied they conntribute nothing(i.e 0)\n",
    "            attn_weight = torch.where(mask, attn_weight, float('-inf') * torch.ones_like(attn_weight))\n",
    "            \n",
    "        attn_scores = F.softmax(attn_weight, dim = -1)\n",
    "        \n",
    "        output = torch.einsum('bnij, bnjd->bnid', attn_scores, v) #Shape[batch,num_heads, seq_q, seq_k] @ [batch, num_head, seq_k]----->[batch, num_head, seq_k, head_dim]\n",
    "        output = output.transpose(1,2).reshape(B,S,-1) #Shape [batch, seq, d_model]\n",
    "        \n",
    "        return self.out_proj(output) #[dim_model, dim_model] @ [b, s, d] along last dim---->[batch, seq, dim]\n"
   ]
  },
  {
   "cell_type": "code",
   "execution_count": 14,
   "id": "4b4a836b",
   "metadata": {},
   "outputs": [],
   "source": [
    "class CrossMHSA(nn.Module):\n",
    "    def __init__(self, head_dim = 64, D_model = 512):\n",
    "        super().__init__()\n",
    "        self.head_dim = head_dim \n",
    "        self.D_model = D_model\n",
    "        \n",
    "        assert D_model % head_dim == 0, \"Critical Error: Head Dimension does not evenly divide Dimension of Model\"\n",
    "        self.num_heads = D_model // head_dim\n",
    "        \n",
    "        self.q_proj = nn.Linear(D_model, D_model)\n",
    "        self.k_proj = nn.Linear(D_model, D_model)\n",
    "        self.v_proj = nn.Linear(D_model, D_model)\n",
    "        self.o_proj = nn.Linear(D_model, D_model)\n",
    "    \n",
    "    '''  \n",
    "        For Cross MultiHead Self-Attention we will be having 2 input sequences.\n",
    "        Input_Sequence_1 Shape: [batch_dim, seq_len_1, d_model]\n",
    "        Input_Sequence_2 Shape: [batch_dim, seq_len_2, d_model]\n",
    "        \n",
    "    '''\n",
    "    def forward(self, x1, x2):\n",
    "        B, S1 , _ = x1.shape\n",
    "        _, S2, _  = x2.shape\n",
    "        \n",
    "        q = self.q_proj(x1) #[batch_size, seq1, d_model]\n",
    "        k , v= self.k_proj(x2), self.v_proj(x2) #[batch, seq2, d_model]\n",
    "        \n",
    "        ''' \n",
    "            Reshape the Projection matrices.\n",
    "            [B, S, D]----->[B, S, NUM_HEADS, HEAD_DIM]\n",
    "            \n",
    "            Then take transpose of the matrices\n",
    "            [B, S, NUM_HEADS, HEAD_DIM]------>[B, NUM_HEADS, S, HEAD_DIM]\n",
    "        '''\n",
    "        q = q.reshape(B, S1, self.num_heads, self.head_dim).transpose(1,2) #[batch, num_heads, seq1, head_dim]\n",
    "        k = k.reshape(B, S2, self.num_heads, self.head_dim).transpose(1,2) #[batch, num_heads, seq2, head_dim]\n",
    "        v = v.reshape(B, S2, self.num_heads, self.head_dim).transpose(1,2) #[batch, num_heads, seq2, head_dim]\n",
    "        \n",
    "        attn_weights = torch.einsum('bnid, bnjd->bnij', q, k) #[batch, num_heads, seq1, seq2]\n",
    "        denominator = math.sqrt(self.head_dim)\n",
    "        attn_weights = attn_weights / denominator\n",
    "        \n",
    "        attn_scores = F.softmax(attn_weights, dim= - 1)\n",
    "        \n",
    "        #Do Scores @ Value then concatenate attn heads together to get a long value vector of dim D\n",
    "        out = torch.einsum('bnij,bnjd->bnid', attn_scores, v)\n",
    "        out = out.transpose(1,2).reshape(B,S1,-1)\n",
    "        \n",
    "        return self.o_proj(out), attn_scores"
   ]
  },
  {
   "cell_type": "code",
   "execution_count": 18,
   "id": "e3142143",
   "metadata": {},
   "outputs": [
    {
     "name": "stdout",
     "output_type": "stream",
     "text": [
      "when sequences are identical: outputs match = True\n",
      "cross-attention allows different sequence lengths, while self-attention requires identical sequences\n",
      "cross-attention gives different results with different sequences: True\n",
      "all tests completed!\n"
     ]
    }
   ],
   "source": [
    "batch_size = 2\n",
    "seq_len = 5\n",
    "dim = 512\n",
    "head_dim = 64\n",
    "\n",
    "# test 1: when sequences are the same\n",
    "x = torch.randn(batch_size, seq_len, dim)\n",
    "\n",
    "# initialize both attention modules\n",
    "# for fair comparison, we need to set causal=False in MHSA\n",
    "mhsa = MHSA(head_dim=head_dim, D_model=dim, causal=False)\n",
    "cross_attn = CrossMHSA(head_dim=head_dim, D_model=dim)\n",
    "\n",
    "# initialize weights to be the same\n",
    "with torch.no_grad():\n",
    "    # set qkv projections to be equivalent\n",
    "    mhsa.qkv_proj.weight.copy_(torch.cat([\n",
    "        cross_attn.q_proj.weight,\n",
    "        cross_attn.k_proj.weight,\n",
    "        cross_attn.v_proj.weight\n",
    "    ], dim=0))\n",
    "    mhsa.qkv_proj.bias.copy_(torch.cat([\n",
    "        cross_attn.q_proj.bias,\n",
    "        cross_attn.k_proj.bias,\n",
    "        cross_attn.v_proj.bias\n",
    "    ], dim=0))\n",
    "    \n",
    "    # set output projections to be the same\n",
    "    cross_attn.o_proj.weight.copy_(mhsa.out_proj.weight)\n",
    "    cross_attn.o_proj.bias.copy_(mhsa.out_proj.bias)\n",
    "\n",
    "# forward pass\n",
    "mhsa_output = mhsa(x)\n",
    "cross_attn_output, _ = cross_attn(x, x)  # same sequence for both inputs\n",
    "\n",
    "# check if outputs are the same when inputs are the same\n",
    "is_close = torch.allclose(mhsa_output, cross_attn_output, rtol=1e-4, atol=1e-4)\n",
    "print(f\"when sequences are identical: outputs match = {is_close}\")\n",
    "\n",
    "# test 2: when sequences are different\n",
    "seq_len1 = 5\n",
    "seq_len2 = 7\n",
    "x1 = torch.randn(batch_size, seq_len1, dim)\n",
    "x2 = torch.randn(batch_size, seq_len2, dim)\n",
    "\n",
    "# forward pass with different sequences\n",
    "cross_attn_diff, _ = cross_attn(x1, x2)\n",
    "\n",
    "# check output shape\n",
    "expected_shape = (batch_size, seq_len1, dim)\n",
    "assert cross_attn_diff.shape == expected_shape, f\"expected shape {expected_shape}, got {cross_attn_diff.shape}\"\n",
    "\n",
    "# try to compute regular self-attention with different sequence lengths (this should fail or give different results)\n",
    "try:\n",
    "    # this won't work directly with MHSA as it expects a single sequence\n",
    "    print(\"cross-attention allows different sequence lengths, while self-attention requires identical sequences\")\n",
    "except Exception as e:\n",
    "    print(f\"as expected, self-attention can't handle different sequence lengths: {e}\")\n",
    "\n",
    "# verify that cross-attention with different sequences gives different results than with identical sequences\n",
    "x1_copy = x1.clone()\n",
    "cross_attn_same, _ = cross_attn(x1_copy, x1_copy)\n",
    "is_different = not torch.allclose(cross_attn_same, cross_attn_diff, rtol=1e-4, atol=1e-4)\n",
    "print(f\"cross-attention gives different results with different sequences: {is_different}\")\n",
    "\n",
    "print(\"all tests completed!\")"
   ]
  },
  {
   "cell_type": "code",
   "execution_count": 20,
   "id": "63f7c114",
   "metadata": {},
   "outputs": [
    {
     "data": {
      "application/vnd.plotly.v1+json": {
       "config": {
        "plotlyServerURL": "https://plot.ly"
       },
       "data": [
        {
         "colorscale": [
          [
           0,
           "#440154"
          ],
          [
           0.1111111111111111,
           "#482878"
          ],
          [
           0.2222222222222222,
           "#3e4989"
          ],
          [
           0.3333333333333333,
           "#31688e"
          ],
          [
           0.4444444444444444,
           "#26828e"
          ],
          [
           0.5555555555555556,
           "#1f9e89"
          ],
          [
           0.6666666666666666,
           "#35b779"
          ],
          [
           0.7777777777777778,
           "#6ece58"
          ],
          [
           0.8888888888888888,
           "#b5de2b"
          ],
          [
           1,
           "#fde725"
          ]
         ],
         "type": "surface",
         "z": {
          "bdata": "B8L7PRus6T0sl4M9RjqAPdeL1j22wvg92tgYPghXvT2I2o09nY7KPS4Hsz1j0yo+uGogPi191T2oy509+t4WPVUIzj1CEao9ZiegPVWD3z3DV3g9Wc4iPqX99T30OtY95ST5PWvI7z2EioM9X8ysPQsdgj2UndY92MrMPYpy4z1V6ws+6YJaPa6Y6D0IBJI9J/77PYxMwj0J5aY9Dd7qPfRlnD3ffe89zafpPcOMoz1cWrU9l/3LPcky0T3if7A9akz/PYiQ5D3Oafc9HOIaPh1p5j1lsGg91gqmPXHROD0zVwo+dyPRPRq2wT0zFc49",
          "dtype": "f4",
          "shape": "6, 10"
         }
        }
       ],
       "layout": {
        "autosize": true,
        "margin": {
         "b": 60,
         "l": 60,
         "r": 60,
         "t": 60
        },
        "scene": {
         "xaxis": {
          "title": {
           "text": "Key Tokens(x2)"
          }
         },
         "yaxis": {
          "title": {
           "text": "Query Tokens (x1)"
          }
         },
         "zaxis": {
          "title": {
           "text": "Attention Weight"
          }
         }
        },
        "template": {
         "data": {
          "bar": [
           {
            "error_x": {
             "color": "#2a3f5f"
            },
            "error_y": {
             "color": "#2a3f5f"
            },
            "marker": {
             "line": {
              "color": "#E5ECF6",
              "width": 0.5
             },
             "pattern": {
              "fillmode": "overlay",
              "size": 10,
              "solidity": 0.2
             }
            },
            "type": "bar"
           }
          ],
          "barpolar": [
           {
            "marker": {
             "line": {
              "color": "#E5ECF6",
              "width": 0.5
             },
             "pattern": {
              "fillmode": "overlay",
              "size": 10,
              "solidity": 0.2
             }
            },
            "type": "barpolar"
           }
          ],
          "carpet": [
           {
            "aaxis": {
             "endlinecolor": "#2a3f5f",
             "gridcolor": "white",
             "linecolor": "white",
             "minorgridcolor": "white",
             "startlinecolor": "#2a3f5f"
            },
            "baxis": {
             "endlinecolor": "#2a3f5f",
             "gridcolor": "white",
             "linecolor": "white",
             "minorgridcolor": "white",
             "startlinecolor": "#2a3f5f"
            },
            "type": "carpet"
           }
          ],
          "choropleth": [
           {
            "colorbar": {
             "outlinewidth": 0,
             "ticks": ""
            },
            "type": "choropleth"
           }
          ],
          "contour": [
           {
            "colorbar": {
             "outlinewidth": 0,
             "ticks": ""
            },
            "colorscale": [
             [
              0,
              "#0d0887"
             ],
             [
              0.1111111111111111,
              "#46039f"
             ],
             [
              0.2222222222222222,
              "#7201a8"
             ],
             [
              0.3333333333333333,
              "#9c179e"
             ],
             [
              0.4444444444444444,
              "#bd3786"
             ],
             [
              0.5555555555555556,
              "#d8576b"
             ],
             [
              0.6666666666666666,
              "#ed7953"
             ],
             [
              0.7777777777777778,
              "#fb9f3a"
             ],
             [
              0.8888888888888888,
              "#fdca26"
             ],
             [
              1,
              "#f0f921"
             ]
            ],
            "type": "contour"
           }
          ],
          "contourcarpet": [
           {
            "colorbar": {
             "outlinewidth": 0,
             "ticks": ""
            },
            "type": "contourcarpet"
           }
          ],
          "heatmap": [
           {
            "colorbar": {
             "outlinewidth": 0,
             "ticks": ""
            },
            "colorscale": [
             [
              0,
              "#0d0887"
             ],
             [
              0.1111111111111111,
              "#46039f"
             ],
             [
              0.2222222222222222,
              "#7201a8"
             ],
             [
              0.3333333333333333,
              "#9c179e"
             ],
             [
              0.4444444444444444,
              "#bd3786"
             ],
             [
              0.5555555555555556,
              "#d8576b"
             ],
             [
              0.6666666666666666,
              "#ed7953"
             ],
             [
              0.7777777777777778,
              "#fb9f3a"
             ],
             [
              0.8888888888888888,
              "#fdca26"
             ],
             [
              1,
              "#f0f921"
             ]
            ],
            "type": "heatmap"
           }
          ],
          "histogram": [
           {
            "marker": {
             "pattern": {
              "fillmode": "overlay",
              "size": 10,
              "solidity": 0.2
             }
            },
            "type": "histogram"
           }
          ],
          "histogram2d": [
           {
            "colorbar": {
             "outlinewidth": 0,
             "ticks": ""
            },
            "colorscale": [
             [
              0,
              "#0d0887"
             ],
             [
              0.1111111111111111,
              "#46039f"
             ],
             [
              0.2222222222222222,
              "#7201a8"
             ],
             [
              0.3333333333333333,
              "#9c179e"
             ],
             [
              0.4444444444444444,
              "#bd3786"
             ],
             [
              0.5555555555555556,
              "#d8576b"
             ],
             [
              0.6666666666666666,
              "#ed7953"
             ],
             [
              0.7777777777777778,
              "#fb9f3a"
             ],
             [
              0.8888888888888888,
              "#fdca26"
             ],
             [
              1,
              "#f0f921"
             ]
            ],
            "type": "histogram2d"
           }
          ],
          "histogram2dcontour": [
           {
            "colorbar": {
             "outlinewidth": 0,
             "ticks": ""
            },
            "colorscale": [
             [
              0,
              "#0d0887"
             ],
             [
              0.1111111111111111,
              "#46039f"
             ],
             [
              0.2222222222222222,
              "#7201a8"
             ],
             [
              0.3333333333333333,
              "#9c179e"
             ],
             [
              0.4444444444444444,
              "#bd3786"
             ],
             [
              0.5555555555555556,
              "#d8576b"
             ],
             [
              0.6666666666666666,
              "#ed7953"
             ],
             [
              0.7777777777777778,
              "#fb9f3a"
             ],
             [
              0.8888888888888888,
              "#fdca26"
             ],
             [
              1,
              "#f0f921"
             ]
            ],
            "type": "histogram2dcontour"
           }
          ],
          "mesh3d": [
           {
            "colorbar": {
             "outlinewidth": 0,
             "ticks": ""
            },
            "type": "mesh3d"
           }
          ],
          "parcoords": [
           {
            "line": {
             "colorbar": {
              "outlinewidth": 0,
              "ticks": ""
             }
            },
            "type": "parcoords"
           }
          ],
          "pie": [
           {
            "automargin": true,
            "type": "pie"
           }
          ],
          "scatter": [
           {
            "fillpattern": {
             "fillmode": "overlay",
             "size": 10,
             "solidity": 0.2
            },
            "type": "scatter"
           }
          ],
          "scatter3d": [
           {
            "line": {
             "colorbar": {
              "outlinewidth": 0,
              "ticks": ""
             }
            },
            "marker": {
             "colorbar": {
              "outlinewidth": 0,
              "ticks": ""
             }
            },
            "type": "scatter3d"
           }
          ],
          "scattercarpet": [
           {
            "marker": {
             "colorbar": {
              "outlinewidth": 0,
              "ticks": ""
             }
            },
            "type": "scattercarpet"
           }
          ],
          "scattergeo": [
           {
            "marker": {
             "colorbar": {
              "outlinewidth": 0,
              "ticks": ""
             }
            },
            "type": "scattergeo"
           }
          ],
          "scattergl": [
           {
            "marker": {
             "colorbar": {
              "outlinewidth": 0,
              "ticks": ""
             }
            },
            "type": "scattergl"
           }
          ],
          "scattermap": [
           {
            "marker": {
             "colorbar": {
              "outlinewidth": 0,
              "ticks": ""
             }
            },
            "type": "scattermap"
           }
          ],
          "scattermapbox": [
           {
            "marker": {
             "colorbar": {
              "outlinewidth": 0,
              "ticks": ""
             }
            },
            "type": "scattermapbox"
           }
          ],
          "scatterpolar": [
           {
            "marker": {
             "colorbar": {
              "outlinewidth": 0,
              "ticks": ""
             }
            },
            "type": "scatterpolar"
           }
          ],
          "scatterpolargl": [
           {
            "marker": {
             "colorbar": {
              "outlinewidth": 0,
              "ticks": ""
             }
            },
            "type": "scatterpolargl"
           }
          ],
          "scatterternary": [
           {
            "marker": {
             "colorbar": {
              "outlinewidth": 0,
              "ticks": ""
             }
            },
            "type": "scatterternary"
           }
          ],
          "surface": [
           {
            "colorbar": {
             "outlinewidth": 0,
             "ticks": ""
            },
            "colorscale": [
             [
              0,
              "#0d0887"
             ],
             [
              0.1111111111111111,
              "#46039f"
             ],
             [
              0.2222222222222222,
              "#7201a8"
             ],
             [
              0.3333333333333333,
              "#9c179e"
             ],
             [
              0.4444444444444444,
              "#bd3786"
             ],
             [
              0.5555555555555556,
              "#d8576b"
             ],
             [
              0.6666666666666666,
              "#ed7953"
             ],
             [
              0.7777777777777778,
              "#fb9f3a"
             ],
             [
              0.8888888888888888,
              "#fdca26"
             ],
             [
              1,
              "#f0f921"
             ]
            ],
            "type": "surface"
           }
          ],
          "table": [
           {
            "cells": {
             "fill": {
              "color": "#EBF0F8"
             },
             "line": {
              "color": "white"
             }
            },
            "header": {
             "fill": {
              "color": "#C8D4E3"
             },
             "line": {
              "color": "white"
             }
            },
            "type": "table"
           }
          ]
         },
         "layout": {
          "annotationdefaults": {
           "arrowcolor": "#2a3f5f",
           "arrowhead": 0,
           "arrowwidth": 1
          },
          "autotypenumbers": "strict",
          "coloraxis": {
           "colorbar": {
            "outlinewidth": 0,
            "ticks": ""
           }
          },
          "colorscale": {
           "diverging": [
            [
             0,
             "#8e0152"
            ],
            [
             0.1,
             "#c51b7d"
            ],
            [
             0.2,
             "#de77ae"
            ],
            [
             0.3,
             "#f1b6da"
            ],
            [
             0.4,
             "#fde0ef"
            ],
            [
             0.5,
             "#f7f7f7"
            ],
            [
             0.6,
             "#e6f5d0"
            ],
            [
             0.7,
             "#b8e186"
            ],
            [
             0.8,
             "#7fbc41"
            ],
            [
             0.9,
             "#4d9221"
            ],
            [
             1,
             "#276419"
            ]
           ],
           "sequential": [
            [
             0,
             "#0d0887"
            ],
            [
             0.1111111111111111,
             "#46039f"
            ],
            [
             0.2222222222222222,
             "#7201a8"
            ],
            [
             0.3333333333333333,
             "#9c179e"
            ],
            [
             0.4444444444444444,
             "#bd3786"
            ],
            [
             0.5555555555555556,
             "#d8576b"
            ],
            [
             0.6666666666666666,
             "#ed7953"
            ],
            [
             0.7777777777777778,
             "#fb9f3a"
            ],
            [
             0.8888888888888888,
             "#fdca26"
            ],
            [
             1,
             "#f0f921"
            ]
           ],
           "sequentialminus": [
            [
             0,
             "#0d0887"
            ],
            [
             0.1111111111111111,
             "#46039f"
            ],
            [
             0.2222222222222222,
             "#7201a8"
            ],
            [
             0.3333333333333333,
             "#9c179e"
            ],
            [
             0.4444444444444444,
             "#bd3786"
            ],
            [
             0.5555555555555556,
             "#d8576b"
            ],
            [
             0.6666666666666666,
             "#ed7953"
            ],
            [
             0.7777777777777778,
             "#fb9f3a"
            ],
            [
             0.8888888888888888,
             "#fdca26"
            ],
            [
             1,
             "#f0f921"
            ]
           ]
          },
          "colorway": [
           "#636efa",
           "#EF553B",
           "#00cc96",
           "#ab63fa",
           "#FFA15A",
           "#19d3f3",
           "#FF6692",
           "#B6E880",
           "#FF97FF",
           "#FECB52"
          ],
          "font": {
           "color": "#2a3f5f"
          },
          "geo": {
           "bgcolor": "white",
           "lakecolor": "white",
           "landcolor": "#E5ECF6",
           "showlakes": true,
           "showland": true,
           "subunitcolor": "white"
          },
          "hoverlabel": {
           "align": "left"
          },
          "hovermode": "closest",
          "mapbox": {
           "style": "light"
          },
          "paper_bgcolor": "white",
          "plot_bgcolor": "#E5ECF6",
          "polar": {
           "angularaxis": {
            "gridcolor": "white",
            "linecolor": "white",
            "ticks": ""
           },
           "bgcolor": "#E5ECF6",
           "radialaxis": {
            "gridcolor": "white",
            "linecolor": "white",
            "ticks": ""
           }
          },
          "scene": {
           "xaxis": {
            "backgroundcolor": "#E5ECF6",
            "gridcolor": "white",
            "gridwidth": 2,
            "linecolor": "white",
            "showbackground": true,
            "ticks": "",
            "zerolinecolor": "white"
           },
           "yaxis": {
            "backgroundcolor": "#E5ECF6",
            "gridcolor": "white",
            "gridwidth": 2,
            "linecolor": "white",
            "showbackground": true,
            "ticks": "",
            "zerolinecolor": "white"
           },
           "zaxis": {
            "backgroundcolor": "#E5ECF6",
            "gridcolor": "white",
            "gridwidth": 2,
            "linecolor": "white",
            "showbackground": true,
            "ticks": "",
            "zerolinecolor": "white"
           }
          },
          "shapedefaults": {
           "line": {
            "color": "#2a3f5f"
           }
          },
          "ternary": {
           "aaxis": {
            "gridcolor": "white",
            "linecolor": "white",
            "ticks": ""
           },
           "baxis": {
            "gridcolor": "white",
            "linecolor": "white",
            "ticks": ""
           },
           "bgcolor": "#E5ECF6",
           "caxis": {
            "gridcolor": "white",
            "linecolor": "white",
            "ticks": ""
           }
          },
          "title": {
           "x": 0.05
          },
          "xaxis": {
           "automargin": true,
           "gridcolor": "white",
           "linecolor": "white",
           "ticks": "",
           "title": {
            "standoff": 15
           },
           "zerolinecolor": "white",
           "zerolinewidth": 2
          },
          "yaxis": {
           "automargin": true,
           "gridcolor": "white",
           "linecolor": "white",
           "ticks": "",
           "title": {
            "standoff": 15
           },
           "zerolinecolor": "white",
           "zerolinewidth": 2
          }
         }
        },
        "title": {
         "text": "Cross Attention Weights (HEAD0)"
        }
       }
      }
     },
     "metadata": {},
     "output_type": "display_data"
    }
   ],
   "source": [
    "import plotly.graph_objects as go \n",
    "\n",
    "B = 1\n",
    "S1 = 6\n",
    "S2 = 10\n",
    "x1 = torch.randn(B, S1, 64)\n",
    "x2 = torch.randn(B, S2, 64)\n",
    "\n",
    "model = CrossMHSA(head_dim= 16, D_model=64)\n",
    "output, scores = model(x1, x2)\n",
    "\n",
    "head = 0\n",
    "attn_scores = scores[0, head].detach().cpu().numpy()\n",
    "\n",
    "fig = go.Figure(data=[go.Surface(z = attn_scores, colorscale='Viridis')])\n",
    "fig.update_layout(\n",
    "    title = f'Cross Attention Weights (HEAD{head})',\n",
    "    scene = dict(\n",
    "        xaxis_title = 'Key Tokens(x2)',\n",
    "        yaxis_title = 'Query Tokens (x1)',\n",
    "        zaxis_title = 'Attention Weight'\n",
    "    ),\n",
    "    autosize = True,\n",
    "    margin = dict(l = 60, r = 60, b = 60, t = 60),\n",
    ")\n",
    "\n",
    "fig.show()"
   ]
  },
  {
   "cell_type": "code",
   "execution_count": null,
   "id": "509dcc66",
   "metadata": {},
   "outputs": [],
   "source": []
  }
 ],
 "metadata": {
  "kernelspec": {
   "display_name": "Python 3",
   "language": "python",
   "name": "python3"
  },
  "language_info": {
   "codemirror_mode": {
    "name": "ipython",
    "version": 3
   },
   "file_extension": ".py",
   "mimetype": "text/x-python",
   "name": "python",
   "nbconvert_exporter": "python",
   "pygments_lexer": "ipython3",
   "version": "3.12.3"
  }
 },
 "nbformat": 4,
 "nbformat_minor": 5
}
