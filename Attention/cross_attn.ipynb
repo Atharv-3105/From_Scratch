{
 "cells": [
  {
   "cell_type": "markdown",
   "id": "b3b11ee6",
   "metadata": {},
   "source": [
    "## Cross Attention\n"
   ]
  },
  {
   "cell_type": "markdown",
   "id": "5dfe3d13",
   "metadata": {},
   "source": [
    " Cross-Attention is a fundamental mechanism in modern AI, especially in Tranformer models. It allows a neural network to dynamically relate and fuse information from different input sequences.\n",
    "\n",
    " "
   ]
  },
  {
   "cell_type": "markdown",
   "id": "b00b337e",
   "metadata": {},
   "source": []
  }
 ],
 "metadata": {
  "language_info": {
   "name": "python"
  }
 },
 "nbformat": 4,
 "nbformat_minor": 5
}
