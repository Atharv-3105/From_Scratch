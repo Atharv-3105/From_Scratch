{
 "cells": [
  {
   "cell_type": "markdown",
   "id": "da849565",
   "metadata": {},
   "source": [
    "## MultiHead Self-Attention"
   ]
  },
  {
   "cell_type": "markdown",
   "id": "ebe9ee15",
   "metadata": {},
   "source": [
    "#### It is a neural network mechanism that enables models to focus on multiple parts of an input sequence simultaneously, capturing richer and more diverse realtionships between sequence elements.\n",
    "\n",
    "**Self-Attention** means the model relates different positions within the same sequences(Eg. words in a sentence relate to one another).\n",
    "\n",
    "**Multi-Head** means the mechanisms runs multiple self-attention operations in parallel, each with its own learned set of weights.Each \"Head\" can learn to focus on diffferent types of relationships or patterns in the data."
   ]
  },
  {
   "cell_type": "markdown",
   "id": "ecb7b934",
   "metadata": {},
   "source": [
    "##### How it Works??\n",
    "- **1** Compute Projections for Query,Key,Value matrices. For multi-head the input is projected using separate, trainable matrices for each head.\n",
    "\n",
    "- **2** Scaled Dot-Product Attention: Each head indenpendently computes self-attention.\n",
    "\n",
    "- **3** The above step is repeated for all heads, each processing different \"views\" of the input sentence. Each head can hence attend to different semantic,positional or syntactic patterns in the same sequence.\n",
    "\n",
    "- **4** Concatenate the outputs from all heads and a final Linear transformation combines them into a single output tensor.\n",
    "\n",
    "\n",
    "#### Why we are using Multiple Head???\n",
    "\n",
    "- Because Each head learns to capture distinct relationships.\n",
    "\n",
    "- Increased flexibility lets the model \"see\" the sequence from different perspective.\n",
    "\n",
    "- This increases the expressiveness of models on various languages and vision tasks."
   ]
  },
  {
   "cell_type": "markdown",
   "id": "2e28da4a",
   "metadata": {},
   "source": [
    "#### Key Features\n",
    "\n",
    "- **Parallelism** - All heads are computed in parallel.\n",
    "- **Permutations** - This attention mechanism does not inherently encode order, The model only learns about word/token order if Positional Encodings are added.\n",
    "- **Scalability** - It enables *transformers*  to scale well to long sequences."
   ]
  },
  {
   "cell_type": "markdown",
   "id": "64f8bc71",
   "metadata": {},
   "source": [
    "![mhself_attn.png](./imgs/mhself_attn.png)"
   ]
  },
  {
   "cell_type": "code",
   "execution_count": 1,
   "id": "5eaa4a04",
   "metadata": {},
   "outputs": [],
   "source": [
    "import torch\n",
    "import torch.nn as nn \n",
    "import torch.nn.functional as F \n"
   ]
  },
  {
   "cell_type": "code",
   "execution_count": 8,
   "id": "11beeb66",
   "metadata": {},
   "outputs": [],
   "source": [
    "class MHSA(nn.Module):\n",
    "    def __init__(self, D, head_dim = 64):\n",
    "        super().__init__()\n",
    "        \n",
    "        self.D = D\n",
    "        self.wq = nn.Linear(D, D)\n",
    "        self.wk = nn.Linear(D, D)\n",
    "        self.wv = nn.Linear(D, D)\n",
    "        self.wo = nn.Linear(D, D)\n",
    "        \n",
    "        assert D % head_dim == 0\n",
    "        self.num_heads = D // head_dim \n",
    "        self.head_dim = head_dim\n",
    "        \n",
    "    def forward(self, x):\n",
    "        B, S, D = x.shape  #B{Batch_size}, S{Seq_len}, D{Dim}\n",
    "        q, k, v = self.wq(x), self.wk(x), self.wv(x)\n",
    "        \n",
    "        #View/Reshape the Matrices as (B,N_HEADS,S,HEAD_DIM)\n",
    "        q = q.view(B, self.num_heads, S, self.head_dim).transpose(1,2)\n",
    "        k = k.view(B, self.num_heads, S, self.head_dim).transpose(1,2)\n",
    "        v = v.view(B, self.num_heads, S, self.head_dim).transpose(1,2)\n",
    "        \n",
    "        #Compute attn scores using einsum to do Q@K^T within each head\n",
    "        #'bnqd' is short-hand for dimensions of Query Vector[i.e batch,num_heads,query_seq_len,dim]\n",
    "        #'bnkd' is short-hand for dimensions of Query Vector[i.e batch,num_heads,key_seq_len,dim]\n",
    "        #'bnqk' is short-hand for dimensions of Query Vector[i.e batch,num_heads,query_seq_len,key_seq_len]\n",
    "        attn_weights = torch.einsum('bnqd, bnkd->bnqk', q, k) \n",
    "        \n",
    "        #Scale the attn_weights by sqrt(d_k)\n",
    "        attn_weights = attn_weights / (self.head_dim ** 0.5)\n",
    "        \n",
    "        #Compute the attn_scores \n",
    "        attn_scores = F.softmax(attn_weights, dim=-1) #We use dim = -1 because we apply softmax over the columns, which is the last dim.\n",
    "        \n",
    "        output = torch.einsum('bnqk, bnvd->bnqd', attn_scores, v)\n",
    "        \n",
    "        #Reshape the output from [B,N_HEADS,SEQ,HEAD_DIM]------>[B,S,D]\n",
    "        output = output.view(B,S,D)\n",
    "        \n",
    "        return self.wo(output), attn_scores\n",
    "        \n",
    "        "
   ]
  },
  {
   "cell_type": "code",
   "execution_count": 10,
   "id": "04d76ed2",
   "metadata": {},
   "outputs": [
    {
     "name": "stdout",
     "output_type": "stream",
     "text": [
      "============================== Output_Shape:torch.Size([2, 4, 128]) ==============================\n",
      "============================== Input Shape:torch.Size([2, 4, 128]) ==============================\n"
     ]
    }
   ],
   "source": [
    "B = 2\n",
    "S = 4\n",
    "D = 128\n",
    "HEAD_DIM = 32\n",
    "\n",
    "x = torch.randn(B,S,D)\n",
    "mhsa = MHSA(D = D, head_dim=HEAD_DIM)\n",
    "output, _ = mhsa(x)\n",
    "\n",
    "#Check the shape of the output\n",
    "assert output.shape == (B,S,D), f\"Expected Shape: [{(B,S,D)}] but got [{(output.shape)}]\"\n",
    "print(\"=\"*30,f\"Output_Shape:{output.shape}\",\"=\"*30 )\n",
    "print(\"=\"*30, f\"Input Shape:{x.shape}\", \"=\"*30)\n",
    "#test the attention weights sum to 1\n",
    "q, k, v = mhsa.wq(x), mhsa.wk(x), mhsa.wv(x)\n",
    "q = q.view(B,mhsa.num_heads, S, HEAD_DIM)\n",
    "k = k.view(B,mhsa.num_heads, S, HEAD_DIM)\n",
    "scores = torch.einsum('bnqd,bnkd->bnqk', q, k) / (HEAD_DIM ** 0.5)\n",
    "attn_weigths = F.softmax(scores, dim = -1)\n",
    "\n",
    "assert torch.allclose(attn_weigths.sum(dim = -1), torch.ones_like(attn_weigths.sum(dim = -1)), atol = 1e-6)\n"
   ]
  },
  {
   "cell_type": "code",
   "execution_count": 11,
   "id": "1f4b7cad",
   "metadata": {},
   "outputs": [
    {
     "data": {
      "image/png": "[encoded data removed]",
      "text/plain": [
       "<Figure size 800x800 with 4 Axes>"
      ]
     },
     "metadata": {},
     "output_type": "display_data"
    }
   ],
   "source": [
    "import matplotlib.pyplot as plt \n",
    "import seaborn as sns\n",
    "import  math\n",
    "\n",
    "dummy_input = torch.randn(B,S,D)\n",
    "with torch.no_grad():\n",
    "    output, attn_scores = mhsa(dummy_input)\n",
    "    \n",
    "attn_to_plot = attn_scores[0].cpu().numpy()\n",
    "num_heads = mhsa.num_heads\n",
    "\n",
    "cols = math.ceil(math.sqrt(num_heads))\n",
    "rows = math.ceil(num_heads / cols)\n",
    "\n",
    "plt.style.use('dark_background')\n",
    "fig, axes = plt.subplots(rows, cols, figsize = (cols * 4, rows * 4))\n",
    "axes = axes.flatten()\n",
    "\n",
    "for i in range(num_heads):\n",
    "    ax = axes[i]\n",
    "    sns.heatmap(attn_to_plot[i], cmap='viridis', ax=ax, cbar=False)\n",
    "    ax.set_title(f'Head {i + 1}')\n",
    "    ax.set_xlabel(\"Key Positions\")\n",
    "    ax.set_ylabel(\"Query Positions\")\n",
    "    \n",
    "    \n",
    "for i in range(num_heads, len(axes)):\n",
    "    fig.delaxes(axes[i])\n",
    "    \n",
    "fig.suptitle(\"MultiHead Self-Attentions HeatMap\", fontsize = 16)\n",
    "plt.tight_layout(rect=[0,0,1,0.96])\n",
    "plt.show()\n",
    "    \n"
   ]
  },
  {
   "cell_type": "code",
   "execution_count": null,
   "id": "7a5f12d4",
   "metadata": {},
   "outputs": [],
   "source": []
  }
 ],
 "metadata": {
  "kernelspec": {
   "display_name": "Python 3",
   "language": "python",
   "name": "python3"
  },
  "language_info": {
   "codemirror_mode": {
    "name": "ipython",
    "version": 3
   },
   "file_extension": ".py",
   "mimetype": "text/x-python",
   "name": "python",
   "nbconvert_exporter": "python",
   "pygments_lexer": "ipython3",
   "version": "3.12.3"
  }
 },
 "nbformat": 4,
 "nbformat_minor": 5
}
